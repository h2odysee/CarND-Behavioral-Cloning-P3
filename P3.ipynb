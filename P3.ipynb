{
 "cells": [
  {
   "cell_type": "code",
   "execution_count": 1,
   "metadata": {},
   "outputs": [
    {
     "name": "stderr",
     "output_type": "stream",
     "text": [
      "Using TensorFlow backend.\n"
     ]
    }
   ],
   "source": [
    "import csv\n",
    "import cv2\n",
    "import numpy as np\n",
    "import tensorflow as tf\n",
    "from keras.models import Sequential, Model, load_model\n",
    "from keras.layers import Flatten, Dense, Lambda, Cropping2D, Input, ZeroPadding2D, Dropout\n",
    "from keras.layers import Conv2D, MaxPooling2D, GlobalAveragePooling2D\n",
    "from keras.applications.inception_v3 import InceptionV3\n",
    "from keras import backend as K\n",
    "from sklearn.utils import shuffle\n",
    "import gc\n",
    "import matplotlib.pyplot as plt\n",
    "import matplotlib.image as mpimg\n",
    "%matplotlib inline"
   ]
  },
  {
   "cell_type": "code",
   "execution_count": 2,
   "metadata": {},
   "outputs": [
    {
     "data": {
      "text/plain": [
       "'done'"
      ]
     },
     "execution_count": 2,
     "metadata": {},
     "output_type": "execute_result"
    },
    {
     "data": {
      "image/png": "[encoded data removed]",
      "text/plain": [
       "<Figure size 432x288 with 1 Axes>"
      ]
     },
     "metadata": {
      "needs_background": "light"
     },
     "output_type": "display_data"
    }
   ],
   "source": [
    "# Loads the driving logs of an array of folders, and returns shuffled (images, measurements).\n",
    "def load_data(folders):\n",
    "    images = []\n",
    "    measurements = []\n",
    "    for folder in folders:\n",
    "        with open(folder + \"/driving_log.csv\") as f:\n",
    "            reader = csv.reader(f)\n",
    "            for line in reader:\n",
    "                if line[0] != \"center\": # The first line of the CSV may be labels, so skip it.\n",
    "\n",
    "                    # center\n",
    "                    image = mpimg.imread(\n",
    "                        folder + \"/IMG/\" + line[0].replace('\\\\','/').split('/')[-1]\n",
    "                    )\n",
    "                    measurement = float(line[3])\n",
    "                    images.append(image)\n",
    "                    measurements.append(measurement)\n",
    "                    # Flip the image and measurement.\n",
    "                    images.append(np.fliplr(image))\n",
    "                    measurements.append(-measurement)\n",
    "\n",
    "                    # The following adds the left and right images, with modified steering angles.\n",
    "                    # They were ultimately not necessary.\n",
    "                    \n",
    "    #                 # left\n",
    "    #                 image = cv2.imread(\n",
    "    #                     folder + \"/IMG/\" + line[1].replace('\\\\','/').split('/')[-1]\n",
    "    #                 )\n",
    "    #                 measurement = np.clip(float(line[4]) + 0.1, -1, 1)\n",
    "    #                 images.append(image)\n",
    "    #                 measurements.append(measurement)\n",
    "    #                 images.append(np.fliplr(image))\n",
    "    #                 measurements.append(-measurement)\n",
    "\n",
    "    #                 # right\n",
    "    #                 image = cv2.imread(\n",
    "    #                     folder + \"/IMG/\" + line[2].replace('\\\\','/').split('/')[-1]\n",
    "    #                 )\n",
    "    #                 measurement = np.clip(float(line[4]) - 0.1, -1, 1)\n",
    "    #                 images.append(image)\n",
    "    #                 measurements.append(measurement)\n",
    "    #                 images.append(np.fliplr(image))\n",
    "    #                 measurements.append(-measurement)\n",
    "    \n",
    "    return shuffle(\n",
    "        np.array(images),\n",
    "        np.array(measurements)\n",
    "    )\n",
    "\n",
    "(X_train, y_train) = load_data([\n",
    "    \"data/lap1\",\n",
    "    \"data/lap2\",\n",
    "    \"data/lap3\",\n",
    "    \"data/backwardslap\",\n",
    "    \"data/recovery\",\n",
    "#     \"data/clap1\",\n",
    "#     \"data/clap2\",\n",
    "#     \"data/clap3\",\n",
    "#     \"data/cbackwardslap\",\n",
    "#     \"data/crecovery\",\n",
    "#     \"data/ctroublesection\",\n",
    "])\n",
    "\n",
    "plt.hist(y_train, 100)\n",
    "\"done\""
   ]
  },
  {
   "cell_type": "code",
   "execution_count": 3,
   "metadata": {},
   "outputs": [
    {
     "name": "stdout",
     "output_type": "stream",
     "text": [
      "(36968, 160, 320, 3) (36968,) (9242, 160, 320, 3) (9242,)\n"
     ]
    }
   ],
   "source": [
    "# generate validation dataset\n",
    "num_val = int(0.2 * len(X_train))\n",
    "X_val = X_train[:num_val]\n",
    "y_val = y_train[:num_val]\n",
    "X_train = X_train[num_val:]\n",
    "y_train = y_train[num_val:]\n",
    "\n",
    "print(X_train.shape, y_train.shape, X_val.shape, y_val.shape)"
   ]
  },
  {
   "cell_type": "code",
   "execution_count": null,
   "metadata": {},
   "outputs": [],
   "source": [
    "inception = InceptionV3(weights=\"imagenet\", include_top=False,\n",
    "                        input_shape=(160,320,3)) # should be 139,320,3\n",
    "\n",
    "# Freezing the weights didn't work.\n",
    "# for i in range(len(inception.layers)):\n",
    "#     inception.layers[i].trainable = False\n",
    "\n",
    "image_input = Input(shape=(160,320,3))\n",
    "crop = Cropping2D(cropping=((70,25),(0,0)))(image_input)\n",
    "pad = ZeroPadding2D((37,0))(crop)\n",
    "inception_layer = inception(pad)\n",
    "layer1 = GlobalAveragePooling2D()(inception_layer)\n",
    "# layer2 = Dense(256, activation=\"relu\")(layer1)\n",
    "layer2 = Dropout(0.5)(layer1)\n",
    "predictions = Dense(1)(layer2)\n",
    "\n",
    "model = Model(inputs=image_input, outputs=predictions)\n",
    "model.compile(optimizer='Adam', loss='mse')\n",
    "model.summary()"
   ]
  },
  {
   "cell_type": "code",
   "execution_count": null,
   "metadata": {},
   "outputs": [],
   "source": [
    "model = Sequential()\n",
    "# model.add(Lambda(lambda x: x/255.0 - 0.5, input_shape = (160,320,3)))\n",
    "model.add(Cropping2D(cropping=((70,25),(0,0)), input_shape=(160, 320, 3)))\n",
    "\n",
    "# LeNet\n",
    "# model.add(Conv2D(6, (5, 5), activation=\"relu\"))\n",
    "# model.add(MaxPooling2D())\n",
    "# model.add(Conv2D(6, (5, 5), activation=\"relu\"))\n",
    "# model.add(MaxPooling2D())\n",
    "# model.add(Flatten())\n",
    "# model.add(Dense(120))\n",
    "# model.add(Dense(84))\n",
    "\n",
    "# NVidia example\n",
    "model.add(Conv2D(24, (5, 5), strides=(2, 2), activation=\"relu\"))\n",
    "model.add(Conv2D(36, (5, 5), strides=(2, 2), activation=\"relu\"))\n",
    "model.add(Conv2D(48, (5, 5), strides=(2, 2), activation=\"relu\"))\n",
    "model.add(Conv2D(64, (3, 3), activation=\"relu\"))\n",
    "model.add(Conv2D(64, (3, 3), activation=\"relu\"))\n",
    "model.add(Flatten())\n",
    "model.add(Dense(100, activation=\"relu\"))\n",
    "model.add(Dropout(0.5))\n",
    "model.add(Dense(50, activation=\"relu\"))\n",
    "model.add(Dropout(0.5))\n",
    "\n",
    "model.add(Dense(1))\n",
    "\n",
    "model.compile(loss=\"mse\", optimizer=\"adam\")\n",
    "model.summary()"
   ]
  },
  {
   "cell_type": "code",
   "execution_count": 5,
   "metadata": {},
   "outputs": [],
   "source": [
    "# Use a generator to pre-process our images for ImageNet\n",
    "from keras.preprocessing.image import ImageDataGenerator\n",
    "from keras.applications.inception_v3 import preprocess_input\n",
    "datagen = ImageDataGenerator(preprocessing_function=preprocess_input)\n",
    "val_datagen = ImageDataGenerator(preprocessing_function=preprocess_input)"
   ]
  },
  {
   "cell_type": "code",
   "execution_count": 6,
   "metadata": {
    "scrolled": true
   },
   "outputs": [
    {
     "name": "stdout",
     "output_type": "stream",
     "text": [
      "Epoch 1/1000\n",
      "1156/1155 [==============================] - 204s 177ms/step - loss: 0.0248 - val_loss: 0.0161\n",
      "Epoch 2/1000\n",
      "1156/1155 [==============================] - 200s 173ms/step - loss: 0.0230 - val_loss: 0.0128\n",
      "Epoch 3/1000\n",
      "1156/1155 [==============================] - 201s 174ms/step - loss: 0.0215 - val_loss: 0.0127\n",
      "Epoch 4/1000\n",
      "1156/1155 [==============================] - 204s 176ms/step - loss: 0.0222 - val_loss: 0.0147\n",
      "Epoch 5/1000\n",
      "1156/1155 [==============================] - 201s 174ms/step - loss: 0.0226 - val_loss: 0.0171\n",
      "Epoch 6/1000\n",
      "1156/1155 [==============================] - 201s 174ms/step - loss: 0.0215 - val_loss: 0.0158\n",
      "Epoch 7/1000\n",
      "1156/1155 [==============================] - 210s 182ms/step - loss: 0.0226 - val_loss: 0.0136\n",
      "Epoch 8/1000\n",
      "1156/1155 [==============================] - 200s 173ms/step - loss: 0.0210 - val_loss: 0.0139\n",
      "Epoch 9/1000\n",
      "1156/1155 [==============================] - 209s 180ms/step - loss: 0.0220 - val_loss: 0.0129\n",
      "Epoch 10/1000\n",
      "1156/1155 [==============================] - 199s 172ms/step - loss: 0.0215 - val_loss: 0.0126\n",
      "Epoch 11/1000\n",
      "1156/1155 [==============================] - 206s 179ms/step - loss: 0.0216 - val_loss: 0.0154\n",
      "Epoch 12/1000\n",
      "1156/1155 [==============================] - 197s 171ms/step - loss: 0.0209 - val_loss: 0.0131\n",
      "Epoch 13/1000\n",
      "1156/1155 [==============================] - 203s 175ms/step - loss: 0.0214 - val_loss: 0.0139\n",
      "Epoch 14/1000\n",
      "1156/1155 [==============================] - 207s 179ms/step - loss: 0.0207 - val_loss: 0.0144\n",
      "Epoch 15/1000\n",
      "1156/1155 [==============================] - 201s 174ms/step - loss: 0.0211 - val_loss: 0.0140\n",
      "Epoch 16/1000\n",
      "1156/1155 [==============================] - 208s 180ms/step - loss: 0.0213 - val_loss: 0.0137\n",
      "Epoch 17/1000\n",
      "1156/1155 [==============================] - 203s 176ms/step - loss: 0.0207 - val_loss: 0.0138\n",
      "Epoch 18/1000\n",
      "1156/1155 [==============================] - 206s 178ms/step - loss: 0.0208 - val_loss: 0.0191\n",
      "Epoch 19/1000\n",
      "1156/1155 [==============================] - 213s 184ms/step - loss: 0.0250 - val_loss: 0.0148\n",
      "Epoch 20/1000\n",
      "1156/1155 [==============================] - 205s 178ms/step - loss: 0.0209 - val_loss: 0.0182\n",
      "Epoch 21/1000\n",
      "1156/1155 [==============================] - 208s 180ms/step - loss: 0.0212 - val_loss: 0.0153\n",
      "Epoch 22/1000\n",
      "1156/1155 [==============================] - 205s 177ms/step - loss: 0.0205 - val_loss: 0.0163\n",
      "Epoch 23/1000\n",
      "1156/1155 [==============================] - 216s 187ms/step - loss: 0.0218 - val_loss: 0.0186\n",
      "Epoch 24/1000\n",
      "1156/1155 [==============================] - 212s 184ms/step - loss: 0.0213 - val_loss: 0.0162\n",
      "Epoch 25/1000\n",
      "1156/1155 [==============================] - 193s 167ms/step - loss: 0.0204 - val_loss: 0.0156\n",
      "Epoch 26/1000\n",
      "1156/1155 [==============================] - 202s 175ms/step - loss: 0.0205 - val_loss: 0.0155\n",
      "Epoch 27/1000\n",
      "1156/1155 [==============================] - 213s 184ms/step - loss: 0.0201 - val_loss: 0.0163\n",
      "Epoch 28/1000\n",
      "1156/1155 [==============================] - 204s 177ms/step - loss: 0.0201 - val_loss: 0.0154\n",
      "Epoch 29/1000\n",
      "1156/1155 [==============================] - 213s 184ms/step - loss: 0.0202 - val_loss: 0.0175\n",
      "Epoch 30/1000\n",
      "1156/1155 [==============================] - 211s 182ms/step - loss: 0.0211 - val_loss: 0.0151\n",
      "Epoch 31/1000\n",
      "1156/1155 [==============================] - 209s 180ms/step - loss: 0.0200 - val_loss: 0.0144\n",
      "Epoch 32/1000\n",
      "1156/1155 [==============================] - 216s 186ms/step - loss: 0.0200 - val_loss: 0.0171\n",
      "Epoch 33/1000\n",
      "1156/1155 [==============================] - 214s 185ms/step - loss: 0.0254 - val_loss: 0.0259\n",
      "Epoch 34/1000\n",
      "1156/1155 [==============================] - 213s 184ms/step - loss: 0.0236 - val_loss: 0.0184\n",
      "Epoch 35/1000\n",
      "1156/1155 [==============================] - 200s 173ms/step - loss: 0.0199 - val_loss: 0.0174\n",
      "Epoch 36/1000\n",
      "1156/1155 [==============================] - 213s 185ms/step - loss: 0.0202 - val_loss: 0.0159\n",
      "Epoch 37/1000\n",
      "1156/1155 [==============================] - 208s 180ms/step - loss: 0.0209 - val_loss: 0.0162\n",
      "Epoch 38/1000\n",
      "1156/1155 [==============================] - 209s 180ms/step - loss: 0.0205 - val_loss: 0.0163\n",
      "Epoch 39/1000\n",
      "1156/1155 [==============================] - 211s 182ms/step - loss: 0.0201 - val_loss: 0.0180\n",
      "Epoch 40/1000\n",
      "1156/1155 [==============================] - 210s 182ms/step - loss: 0.0205 - val_loss: 0.0169\n",
      "Epoch 41/1000\n",
      "1156/1155 [==============================] - 209s 181ms/step - loss: 0.0202 - val_loss: 0.0157\n",
      "Epoch 42/1000\n",
      "1156/1155 [==============================] - 216s 187ms/step - loss: 0.0212 - val_loss: 0.0171\n",
      "Epoch 43/1000\n",
      "1156/1155 [==============================] - 211s 183ms/step - loss: 0.0197 - val_loss: 0.0190\n",
      "Epoch 44/1000\n",
      "1156/1155 [==============================] - 218s 189ms/step - loss: 0.0199 - val_loss: 0.0168\n",
      "Epoch 45/1000\n",
      "1156/1155 [==============================] - 211s 183ms/step - loss: 0.0206 - val_loss: 0.0165\n",
      "Epoch 46/1000\n",
      "1156/1155 [==============================] - 213s 184ms/step - loss: 0.0201 - val_loss: 0.0152\n",
      "Epoch 47/1000\n",
      "1156/1155 [==============================] - 211s 183ms/step - loss: 0.0202 - val_loss: 0.0182\n",
      "Epoch 48/1000\n",
      "1156/1155 [==============================] - 208s 180ms/step - loss: 0.0205 - val_loss: 0.0165\n",
      "Epoch 49/1000\n",
      "1156/1155 [==============================] - 204s 176ms/step - loss: 0.0199 - val_loss: 0.0190\n",
      "Epoch 50/1000\n",
      "1156/1155 [==============================] - 201s 174ms/step - loss: 0.0218 - val_loss: 0.0285\n",
      "Epoch 51/1000\n",
      "1156/1155 [==============================] - 217s 188ms/step - loss: 0.0221 - val_loss: 0.0165\n",
      "Epoch 52/1000\n",
      "1156/1155 [==============================] - 213s 184ms/step - loss: 0.0204 - val_loss: 0.0174\n",
      "Epoch 53/1000\n",
      "1156/1155 [==============================] - 196s 170ms/step - loss: 0.0196 - val_loss: 0.0193\n",
      "Epoch 54/1000\n",
      "1156/1155 [==============================] - 209s 181ms/step - loss: 0.0206 - val_loss: 0.0172\n",
      "Epoch 55/1000\n",
      "1156/1155 [==============================] - 214s 185ms/step - loss: 0.0250 - val_loss: 0.0182\n",
      "Epoch 56/1000\n",
      "1156/1155 [==============================] - 208s 180ms/step - loss: 0.0219 - val_loss: 0.0185\n",
      "Epoch 57/1000\n",
      "1156/1155 [==============================] - 212s 184ms/step - loss: 0.0194 - val_loss: 0.0177\n",
      "Epoch 58/1000\n",
      "1156/1155 [==============================] - 217s 188ms/step - loss: 0.0265 - val_loss: 0.0168\n",
      "Epoch 59/1000\n",
      "1156/1155 [==============================] - 214s 185ms/step - loss: 0.0196 - val_loss: 0.0202\n",
      "Epoch 60/1000\n",
      "1156/1155 [==============================] - 211s 183ms/step - loss: 0.0199 - val_loss: 0.0183\n",
      "Epoch 61/1000\n",
      "1156/1155 [==============================] - 208s 180ms/step - loss: 0.0198 - val_loss: 0.0195\n",
      "Epoch 62/1000\n",
      "1156/1155 [==============================] - 212s 183ms/step - loss: 0.0203 - val_loss: 0.0167\n",
      "Epoch 63/1000\n",
      "1156/1155 [==============================] - 216s 187ms/step - loss: 0.0203 - val_loss: 0.0223\n",
      "Epoch 64/1000\n",
      "1156/1155 [==============================] - 206s 179ms/step - loss: 0.0201 - val_loss: 0.0171\n",
      "Epoch 65/1000\n",
      "1156/1155 [==============================] - 209s 181ms/step - loss: 0.0198 - val_loss: 0.0178\n",
      "Epoch 66/1000\n",
      "1156/1155 [==============================] - 211s 183ms/step - loss: 0.0207 - val_loss: 0.0167\n",
      "Epoch 67/1000\n",
      "1156/1155 [==============================] - 220s 190ms/step - loss: 0.0199 - val_loss: 0.0191\n",
      "Epoch 68/1000\n",
      "1156/1155 [==============================] - 215s 186ms/step - loss: 0.0200 - val_loss: 0.0181\n",
      "Epoch 69/1000\n",
      "1156/1155 [==============================] - 210s 182ms/step - loss: 0.0205 - val_loss: 0.0169\n",
      "Epoch 70/1000\n",
      "1156/1155 [==============================] - 199s 172ms/step - loss: 0.0196 - val_loss: 0.0193\n",
      "Epoch 71/1000\n",
      "1156/1155 [==============================] - 210s 182ms/step - loss: 0.0195 - val_loss: 0.0200\n",
      "Epoch 72/1000\n",
      "1156/1155 [==============================] - 215s 186ms/step - loss: 0.0205 - val_loss: 0.0182\n",
      "Epoch 73/1000\n",
      "1156/1155 [==============================] - 208s 180ms/step - loss: 0.0199 - val_loss: 0.0207\n",
      "Epoch 74/1000\n",
      "1156/1155 [==============================] - 202s 174ms/step - loss: 0.0207 - val_loss: 0.0204\n",
      "Epoch 75/1000\n",
      "1156/1155 [==============================] - 209s 180ms/step - loss: 0.0205 - val_loss: 0.0226\n",
      "Epoch 76/1000\n"
     ]
    },
    {
     "name": "stdout",
     "output_type": "stream",
     "text": [
      "1156/1155 [==============================] - 216s 187ms/step - loss: 0.0204 - val_loss: 0.0174\n",
      "Epoch 77/1000\n",
      "1156/1155 [==============================] - 207s 179ms/step - loss: 0.0188 - val_loss: 0.0173\n",
      "Epoch 78/1000\n",
      " 203/1155 [====>.........................] - ETA: 1:49 - loss: 0.0208"
     ]
    },
    {
     "ename": "KeyboardInterrupt",
     "evalue": "",
     "output_type": "error",
     "traceback": [
      "\u001b[1;31m---------------------------------------------------------------------------\u001b[0m",
      "\u001b[1;31mKeyboardInterrupt\u001b[0m                         Traceback (most recent call last)",
      "\u001b[1;32m<ipython-input-6-217f9217cdc2>\u001b[0m in \u001b[0;36m<module>\u001b[1;34m\u001b[0m\n\u001b[0;32m      4\u001b[0m                     \u001b[0msteps_per_epoch\u001b[0m\u001b[1;33m=\u001b[0m\u001b[0mlen\u001b[0m\u001b[1;33m(\u001b[0m\u001b[0mX_train\u001b[0m\u001b[1;33m)\u001b[0m\u001b[1;33m/\u001b[0m\u001b[0mbatch_size\u001b[0m\u001b[1;33m,\u001b[0m \u001b[0mepochs\u001b[0m\u001b[1;33m=\u001b[0m\u001b[0mepochs\u001b[0m\u001b[1;33m,\u001b[0m \u001b[0mverbose\u001b[0m\u001b[1;33m=\u001b[0m\u001b[1;36m1\u001b[0m\u001b[1;33m,\u001b[0m\u001b[1;33m\u001b[0m\u001b[1;33m\u001b[0m\u001b[0m\n\u001b[0;32m      5\u001b[0m                     \u001b[0mvalidation_data\u001b[0m\u001b[1;33m=\u001b[0m\u001b[0mval_datagen\u001b[0m\u001b[1;33m.\u001b[0m\u001b[0mflow\u001b[0m\u001b[1;33m(\u001b[0m\u001b[0mX_val\u001b[0m\u001b[1;33m,\u001b[0m \u001b[0my_val\u001b[0m\u001b[1;33m,\u001b[0m \u001b[0mbatch_size\u001b[0m\u001b[1;33m=\u001b[0m\u001b[0mbatch_size\u001b[0m\u001b[1;33m)\u001b[0m\u001b[1;33m,\u001b[0m\u001b[1;33m\u001b[0m\u001b[1;33m\u001b[0m\u001b[0m\n\u001b[1;32m----> 6\u001b[1;33m                     validation_steps=len(X_val)/batch_size)\n\u001b[0m",
      "\u001b[1;32m~\\Anaconda3\\envs\\tensorflow-gpu3\\lib\\site-packages\\keras\\legacy\\interfaces.py\u001b[0m in \u001b[0;36mwrapper\u001b[1;34m(*args, **kwargs)\u001b[0m\n\u001b[0;32m     89\u001b[0m                 warnings.warn('Update your `' + object_name + '` call to the ' +\n\u001b[0;32m     90\u001b[0m                               'Keras 2 API: ' + signature, stacklevel=2)\n\u001b[1;32m---> 91\u001b[1;33m             \u001b[1;32mreturn\u001b[0m \u001b[0mfunc\u001b[0m\u001b[1;33m(\u001b[0m\u001b[1;33m*\u001b[0m\u001b[0margs\u001b[0m\u001b[1;33m,\u001b[0m \u001b[1;33m**\u001b[0m\u001b[0mkwargs\u001b[0m\u001b[1;33m)\u001b[0m\u001b[1;33m\u001b[0m\u001b[1;33m\u001b[0m\u001b[0m\n\u001b[0m\u001b[0;32m     92\u001b[0m         \u001b[0mwrapper\u001b[0m\u001b[1;33m.\u001b[0m\u001b[0m_original_function\u001b[0m \u001b[1;33m=\u001b[0m \u001b[0mfunc\u001b[0m\u001b[1;33m\u001b[0m\u001b[1;33m\u001b[0m\u001b[0m\n\u001b[0;32m     93\u001b[0m         \u001b[1;32mreturn\u001b[0m \u001b[0mwrapper\u001b[0m\u001b[1;33m\u001b[0m\u001b[1;33m\u001b[0m\u001b[0m\n",
      "\u001b[1;32m~\\Anaconda3\\envs\\tensorflow-gpu3\\lib\\site-packages\\keras\\engine\\training.py\u001b[0m in \u001b[0;36mfit_generator\u001b[1;34m(self, generator, steps_per_epoch, epochs, verbose, callbacks, validation_data, validation_steps, class_weight, max_queue_size, workers, use_multiprocessing, shuffle, initial_epoch)\u001b[0m\n\u001b[0;32m   1416\u001b[0m             \u001b[0muse_multiprocessing\u001b[0m\u001b[1;33m=\u001b[0m\u001b[0muse_multiprocessing\u001b[0m\u001b[1;33m,\u001b[0m\u001b[1;33m\u001b[0m\u001b[1;33m\u001b[0m\u001b[0m\n\u001b[0;32m   1417\u001b[0m             \u001b[0mshuffle\u001b[0m\u001b[1;33m=\u001b[0m\u001b[0mshuffle\u001b[0m\u001b[1;33m,\u001b[0m\u001b[1;33m\u001b[0m\u001b[1;33m\u001b[0m\u001b[0m\n\u001b[1;32m-> 1418\u001b[1;33m             initial_epoch=initial_epoch)\n\u001b[0m\u001b[0;32m   1419\u001b[0m \u001b[1;33m\u001b[0m\u001b[0m\n\u001b[0;32m   1420\u001b[0m     \u001b[1;33m@\u001b[0m\u001b[0minterfaces\u001b[0m\u001b[1;33m.\u001b[0m\u001b[0mlegacy_generator_methods_support\u001b[0m\u001b[1;33m\u001b[0m\u001b[1;33m\u001b[0m\u001b[0m\n",
      "\u001b[1;32m~\\Anaconda3\\envs\\tensorflow-gpu3\\lib\\site-packages\\keras\\engine\\training_generator.py\u001b[0m in \u001b[0;36mfit_generator\u001b[1;34m(model, generator, steps_per_epoch, epochs, verbose, callbacks, validation_data, validation_steps, class_weight, max_queue_size, workers, use_multiprocessing, shuffle, initial_epoch)\u001b[0m\n\u001b[0;32m    179\u001b[0m             \u001b[0mbatch_index\u001b[0m \u001b[1;33m=\u001b[0m \u001b[1;36m0\u001b[0m\u001b[1;33m\u001b[0m\u001b[1;33m\u001b[0m\u001b[0m\n\u001b[0;32m    180\u001b[0m             \u001b[1;32mwhile\u001b[0m \u001b[0msteps_done\u001b[0m \u001b[1;33m<\u001b[0m \u001b[0msteps_per_epoch\u001b[0m\u001b[1;33m:\u001b[0m\u001b[1;33m\u001b[0m\u001b[1;33m\u001b[0m\u001b[0m\n\u001b[1;32m--> 181\u001b[1;33m                 \u001b[0mgenerator_output\u001b[0m \u001b[1;33m=\u001b[0m \u001b[0mnext\u001b[0m\u001b[1;33m(\u001b[0m\u001b[0moutput_generator\u001b[0m\u001b[1;33m)\u001b[0m\u001b[1;33m\u001b[0m\u001b[1;33m\u001b[0m\u001b[0m\n\u001b[0m\u001b[0;32m    182\u001b[0m \u001b[1;33m\u001b[0m\u001b[0m\n\u001b[0;32m    183\u001b[0m                 \u001b[1;32mif\u001b[0m \u001b[1;32mnot\u001b[0m \u001b[0mhasattr\u001b[0m\u001b[1;33m(\u001b[0m\u001b[0mgenerator_output\u001b[0m\u001b[1;33m,\u001b[0m \u001b[1;34m'__len__'\u001b[0m\u001b[1;33m)\u001b[0m\u001b[1;33m:\u001b[0m\u001b[1;33m\u001b[0m\u001b[1;33m\u001b[0m\u001b[0m\n",
      "\u001b[1;32m~\\Anaconda3\\envs\\tensorflow-gpu3\\lib\\site-packages\\keras\\utils\\data_utils.py\u001b[0m in \u001b[0;36mget\u001b[1;34m(self)\u001b[0m\n\u001b[0;32m    683\u001b[0m         \u001b[1;32mtry\u001b[0m\u001b[1;33m:\u001b[0m\u001b[1;33m\u001b[0m\u001b[1;33m\u001b[0m\u001b[0m\n\u001b[0;32m    684\u001b[0m             \u001b[1;32mwhile\u001b[0m \u001b[0mself\u001b[0m\u001b[1;33m.\u001b[0m\u001b[0mis_running\u001b[0m\u001b[1;33m(\u001b[0m\u001b[1;33m)\u001b[0m\u001b[1;33m:\u001b[0m\u001b[1;33m\u001b[0m\u001b[1;33m\u001b[0m\u001b[0m\n\u001b[1;32m--> 685\u001b[1;33m                 \u001b[0minputs\u001b[0m \u001b[1;33m=\u001b[0m \u001b[0mself\u001b[0m\u001b[1;33m.\u001b[0m\u001b[0mqueue\u001b[0m\u001b[1;33m.\u001b[0m\u001b[0mget\u001b[0m\u001b[1;33m(\u001b[0m\u001b[0mblock\u001b[0m\u001b[1;33m=\u001b[0m\u001b[1;32mTrue\u001b[0m\u001b[1;33m)\u001b[0m\u001b[1;33m.\u001b[0m\u001b[0mget\u001b[0m\u001b[1;33m(\u001b[0m\u001b[1;33m)\u001b[0m\u001b[1;33m\u001b[0m\u001b[1;33m\u001b[0m\u001b[0m\n\u001b[0m\u001b[0;32m    686\u001b[0m                 \u001b[0mself\u001b[0m\u001b[1;33m.\u001b[0m\u001b[0mqueue\u001b[0m\u001b[1;33m.\u001b[0m\u001b[0mtask_done\u001b[0m\u001b[1;33m(\u001b[0m\u001b[1;33m)\u001b[0m\u001b[1;33m\u001b[0m\u001b[1;33m\u001b[0m\u001b[0m\n\u001b[0;32m    687\u001b[0m                 \u001b[1;32mif\u001b[0m \u001b[0minputs\u001b[0m \u001b[1;32mis\u001b[0m \u001b[1;32mnot\u001b[0m \u001b[1;32mNone\u001b[0m\u001b[1;33m:\u001b[0m\u001b[1;33m\u001b[0m\u001b[1;33m\u001b[0m\u001b[0m\n",
      "\u001b[1;32m~\\Anaconda3\\envs\\tensorflow-gpu3\\lib\\multiprocessing\\pool.py\u001b[0m in \u001b[0;36mget\u001b[1;34m(self, timeout)\u001b[0m\n\u001b[0;32m    649\u001b[0m \u001b[1;33m\u001b[0m\u001b[0m\n\u001b[0;32m    650\u001b[0m     \u001b[1;32mdef\u001b[0m \u001b[0mget\u001b[0m\u001b[1;33m(\u001b[0m\u001b[0mself\u001b[0m\u001b[1;33m,\u001b[0m \u001b[0mtimeout\u001b[0m\u001b[1;33m=\u001b[0m\u001b[1;32mNone\u001b[0m\u001b[1;33m)\u001b[0m\u001b[1;33m:\u001b[0m\u001b[1;33m\u001b[0m\u001b[1;33m\u001b[0m\u001b[0m\n\u001b[1;32m--> 651\u001b[1;33m         \u001b[0mself\u001b[0m\u001b[1;33m.\u001b[0m\u001b[0mwait\u001b[0m\u001b[1;33m(\u001b[0m\u001b[0mtimeout\u001b[0m\u001b[1;33m)\u001b[0m\u001b[1;33m\u001b[0m\u001b[1;33m\u001b[0m\u001b[0m\n\u001b[0m\u001b[0;32m    652\u001b[0m         \u001b[1;32mif\u001b[0m \u001b[1;32mnot\u001b[0m \u001b[0mself\u001b[0m\u001b[1;33m.\u001b[0m\u001b[0mready\u001b[0m\u001b[1;33m(\u001b[0m\u001b[1;33m)\u001b[0m\u001b[1;33m:\u001b[0m\u001b[1;33m\u001b[0m\u001b[1;33m\u001b[0m\u001b[0m\n\u001b[0;32m    653\u001b[0m             \u001b[1;32mraise\u001b[0m \u001b[0mTimeoutError\u001b[0m\u001b[1;33m\u001b[0m\u001b[1;33m\u001b[0m\u001b[0m\n",
      "\u001b[1;32m~\\Anaconda3\\envs\\tensorflow-gpu3\\lib\\multiprocessing\\pool.py\u001b[0m in \u001b[0;36mwait\u001b[1;34m(self, timeout)\u001b[0m\n\u001b[0;32m    646\u001b[0m \u001b[1;33m\u001b[0m\u001b[0m\n\u001b[0;32m    647\u001b[0m     \u001b[1;32mdef\u001b[0m \u001b[0mwait\u001b[0m\u001b[1;33m(\u001b[0m\u001b[0mself\u001b[0m\u001b[1;33m,\u001b[0m \u001b[0mtimeout\u001b[0m\u001b[1;33m=\u001b[0m\u001b[1;32mNone\u001b[0m\u001b[1;33m)\u001b[0m\u001b[1;33m:\u001b[0m\u001b[1;33m\u001b[0m\u001b[1;33m\u001b[0m\u001b[0m\n\u001b[1;32m--> 648\u001b[1;33m         \u001b[0mself\u001b[0m\u001b[1;33m.\u001b[0m\u001b[0m_event\u001b[0m\u001b[1;33m.\u001b[0m\u001b[0mwait\u001b[0m\u001b[1;33m(\u001b[0m\u001b[0mtimeout\u001b[0m\u001b[1;33m)\u001b[0m\u001b[1;33m\u001b[0m\u001b[1;33m\u001b[0m\u001b[0m\n\u001b[0m\u001b[0;32m    649\u001b[0m \u001b[1;33m\u001b[0m\u001b[0m\n\u001b[0;32m    650\u001b[0m     \u001b[1;32mdef\u001b[0m \u001b[0mget\u001b[0m\u001b[1;33m(\u001b[0m\u001b[0mself\u001b[0m\u001b[1;33m,\u001b[0m \u001b[0mtimeout\u001b[0m\u001b[1;33m=\u001b[0m\u001b[1;32mNone\u001b[0m\u001b[1;33m)\u001b[0m\u001b[1;33m:\u001b[0m\u001b[1;33m\u001b[0m\u001b[1;33m\u001b[0m\u001b[0m\n",
      "\u001b[1;32m~\\Anaconda3\\envs\\tensorflow-gpu3\\lib\\threading.py\u001b[0m in \u001b[0;36mwait\u001b[1;34m(self, timeout)\u001b[0m\n\u001b[0;32m    550\u001b[0m             \u001b[0msignaled\u001b[0m \u001b[1;33m=\u001b[0m \u001b[0mself\u001b[0m\u001b[1;33m.\u001b[0m\u001b[0m_flag\u001b[0m\u001b[1;33m\u001b[0m\u001b[1;33m\u001b[0m\u001b[0m\n\u001b[0;32m    551\u001b[0m             \u001b[1;32mif\u001b[0m \u001b[1;32mnot\u001b[0m \u001b[0msignaled\u001b[0m\u001b[1;33m:\u001b[0m\u001b[1;33m\u001b[0m\u001b[1;33m\u001b[0m\u001b[0m\n\u001b[1;32m--> 552\u001b[1;33m                 \u001b[0msignaled\u001b[0m \u001b[1;33m=\u001b[0m \u001b[0mself\u001b[0m\u001b[1;33m.\u001b[0m\u001b[0m_cond\u001b[0m\u001b[1;33m.\u001b[0m\u001b[0mwait\u001b[0m\u001b[1;33m(\u001b[0m\u001b[0mtimeout\u001b[0m\u001b[1;33m)\u001b[0m\u001b[1;33m\u001b[0m\u001b[1;33m\u001b[0m\u001b[0m\n\u001b[0m\u001b[0;32m    553\u001b[0m             \u001b[1;32mreturn\u001b[0m \u001b[0msignaled\u001b[0m\u001b[1;33m\u001b[0m\u001b[1;33m\u001b[0m\u001b[0m\n\u001b[0;32m    554\u001b[0m \u001b[1;33m\u001b[0m\u001b[0m\n",
      "\u001b[1;32m~\\Anaconda3\\envs\\tensorflow-gpu3\\lib\\threading.py\u001b[0m in \u001b[0;36mwait\u001b[1;34m(self, timeout)\u001b[0m\n\u001b[0;32m    294\u001b[0m         \u001b[1;32mtry\u001b[0m\u001b[1;33m:\u001b[0m    \u001b[1;31m# restore state no matter what (e.g., KeyboardInterrupt)\u001b[0m\u001b[1;33m\u001b[0m\u001b[1;33m\u001b[0m\u001b[0m\n\u001b[0;32m    295\u001b[0m             \u001b[1;32mif\u001b[0m \u001b[0mtimeout\u001b[0m \u001b[1;32mis\u001b[0m \u001b[1;32mNone\u001b[0m\u001b[1;33m:\u001b[0m\u001b[1;33m\u001b[0m\u001b[1;33m\u001b[0m\u001b[0m\n\u001b[1;32m--> 296\u001b[1;33m                 \u001b[0mwaiter\u001b[0m\u001b[1;33m.\u001b[0m\u001b[0macquire\u001b[0m\u001b[1;33m(\u001b[0m\u001b[1;33m)\u001b[0m\u001b[1;33m\u001b[0m\u001b[1;33m\u001b[0m\u001b[0m\n\u001b[0m\u001b[0;32m    297\u001b[0m                 \u001b[0mgotit\u001b[0m \u001b[1;33m=\u001b[0m \u001b[1;32mTrue\u001b[0m\u001b[1;33m\u001b[0m\u001b[1;33m\u001b[0m\u001b[0m\n\u001b[0;32m    298\u001b[0m             \u001b[1;32melse\u001b[0m\u001b[1;33m:\u001b[0m\u001b[1;33m\u001b[0m\u001b[1;33m\u001b[0m\u001b[0m\n",
      "\u001b[1;31mKeyboardInterrupt\u001b[0m: "
     ]
    }
   ],
   "source": [
    "batch_size = 32\n",
    "epochs = 1000\n",
    "model.fit_generator(datagen.flow(X_train, y_train, batch_size=batch_size), \n",
    "                    steps_per_epoch=len(X_train)/batch_size, epochs=epochs, verbose=1, \n",
    "                    validation_data=val_datagen.flow(X_val, y_val, batch_size=batch_size),\n",
    "                    validation_steps=len(X_val)/batch_size)"
   ]
  },
  {
   "cell_type": "code",
   "execution_count": 7,
   "metadata": {},
   "outputs": [],
   "source": [
    "model.save(\"cmodeldropout3.h5\")"
   ]
  },
  {
   "cell_type": "code",
   "execution_count": 8,
   "metadata": {},
   "outputs": [],
   "source": [
    "K.clear_session()\n",
    "gc.collect()\n",
    "del model"
   ]
  },
  {
   "cell_type": "code",
   "execution_count": 4,
   "metadata": {},
   "outputs": [
    {
     "name": "stdout",
     "output_type": "stream",
     "text": [
      "WARNING:tensorflow:From C:\\Users\\nebula\\Anaconda3\\envs\\tensorflow-gpu3\\lib\\site-packages\\tensorflow\\python\\framework\\op_def_library.py:263: colocate_with (from tensorflow.python.framework.ops) is deprecated and will be removed in a future version.\n",
      "Instructions for updating:\n",
      "Colocations handled automatically by placer.\n",
      "WARNING:tensorflow:From C:\\Users\\nebula\\Anaconda3\\envs\\tensorflow-gpu3\\lib\\site-packages\\keras\\backend\\tensorflow_backend.py:3445: calling dropout (from tensorflow.python.ops.nn_ops) with keep_prob is deprecated and will be removed in a future version.\n",
      "Instructions for updating:\n",
      "Please use `rate` instead of `keep_prob`. Rate should be set to `rate = 1 - keep_prob`.\n",
      "WARNING:tensorflow:From C:\\Users\\nebula\\Anaconda3\\envs\\tensorflow-gpu3\\lib\\site-packages\\tensorflow\\python\\ops\\math_ops.py:3066: to_int32 (from tensorflow.python.ops.math_ops) is deprecated and will be removed in a future version.\n",
      "Instructions for updating:\n",
      "Use tf.cast instead.\n"
     ]
    }
   ],
   "source": [
    "model = load_model(\"cmodeldropout2.h5\")"
   ]
  },
  {
   "cell_type": "code",
   "execution_count": null,
   "metadata": {},
   "outputs": [],
   "source": [
    "n = 0\n",
    "image = X_train[n]\n",
    "image = preprocess_input(image)\n",
    "image_cropped = image[70:-25]\n",
    "plt.imshow(image_cropped)\n",
    "steering_angle = float(model.predict(image[None, :, :, :], batch_size=1))\n",
    "print(steering_angle, y_train[n])"
   ]
  },
  {
   "cell_type": "code",
   "execution_count": null,
   "metadata": {},
   "outputs": [],
   "source": [
    "y_train = np.array([.123]*len(y_train))\n",
    "plt.hist(y_train, 100)\n",
    "y_train.shape"
   ]
  },
  {
   "cell_type": "code",
   "execution_count": null,
   "metadata": {},
   "outputs": [],
   "source": [
    "TODO: add image preprocessing to drive.py"
   ]
  },
  {
   "cell_type": "code",
   "execution_count": null,
   "metadata": {},
   "outputs": [],
   "source": []
  }
 ],
 "metadata": {
  "kernelspec": {
   "display_name": "Python 3.7 New",
   "language": "python",
   "name": "py37-env2"
  },
  "language_info": {
   "codemirror_mode": {
    "name": "ipython",
    "version": 3
   },
   "file_extension": ".py",
   "mimetype": "text/x-python",
   "name": "python",
   "nbconvert_exporter": "python",
   "pygments_lexer": "ipython3",
   "version": "3.7.3"
  }
 },
 "nbformat": 4,
 "nbformat_minor": 2
}
